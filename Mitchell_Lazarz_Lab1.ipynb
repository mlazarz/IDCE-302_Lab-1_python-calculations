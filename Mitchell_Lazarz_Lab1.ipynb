{
  "nbformat": 4,
  "nbformat_minor": 0,
  "metadata": {
    "colab": {
      "name": "Mitchell_Lazarz_Lab1.ipynb",
      "provenance": [],
      "collapsed_sections": [],
      "authorship_tag": "ABX9TyPuAwCCsKrn42FlwxUY0xlh",
      "include_colab_link": true
    },
    "kernelspec": {
      "name": "python3",
      "display_name": "Python 3"
    }
  },
  "cells": [
    {
      "cell_type": "markdown",
      "metadata": {
        "id": "view-in-github",
        "colab_type": "text"
      },
      "source": [
        "<a href=\"https://colab.research.google.com/github/IDCE-MSGIS/lab1-python-calculations-mlazarz/blob/master/Mitchell_Lazarz_Lab1.ipynb\" target=\"_parent\"><img src=\"https://colab.research.google.com/assets/colab-badge.svg\" alt=\"Open In Colab\"/></a>"
      ]
    },
    {
      "cell_type": "code",
      "metadata": {
        "id": "_mFaTOuu70le",
        "colab_type": "code",
        "colab": {
          "base_uri": "https://localhost:8080/",
          "height": 85
        },
        "outputId": "7f84ec6a-22ce-40f6-c47b-bc8c80556ded"
      },
      "source": [
        "\"\"\"\n",
        "Creator:  Mitchell Lazarz\n",
        "Date Created:  29 August 2020\n",
        "Version Used:  Python 3--Google Colab--Jupyter Notebooks\n",
        "Code Description:  Calculations for storm water runoff for a 1000 square foot \n",
        "impervious surface plot in Kenya.  Width and length of the plot in feet and \n",
        "rainfall in inches are the inputs.  The output is gallons of water of runoff.\n",
        "\"\"\"\n",
        "\n",
        "# These lines assign values to variables\n",
        "plot_length_ft = 50.0\n",
        "plot_width_ft = 20.0 \n",
        "rainfall_inch = 1.0\n",
        "\n",
        "# These lines convert measurement from feet to inches\n",
        "plot_length_inch = plot_length_ft * 12.0\n",
        "plot_width_inch = plot_length_ft * 12.0\n",
        "\n",
        "# This line calculates area of plot in square inches\n",
        "plot_area_sqinch = plot_length_inch * plot_width_inch\n",
        "\n",
        "#This line calculates runoff of plot during storm in cubic inches\n",
        "runoff_cubicinch = plot_area_sqinch * rainfall_inch\n",
        "\n",
        "#This line converts runoff from cubic inches to gallons, rounded to second decimal place\n",
        "runoff_gallons = round(runoff_cubicinch / 231.0,2)\n",
        "\n",
        "#These lines display the results\n",
        "print(\"Plot length is:\",plot_length_ft,\"feet\")\n",
        "print(\"Plot width is:\",plot_width_ft,\"feet\")\n",
        "print(\"Rainfall amount is:\",rainfall_inch,\"inches\")\n",
        "print(\"Runoff amount is:\",runoff_gallons,\"gallons\")"
      ],
      "execution_count": null,
      "outputs": [
        {
          "output_type": "stream",
          "text": [
            "Plot length is: 50.0 feet\n",
            "Plot width is: 20.0 feet\n",
            "Rainfall amount is: 1.0 inches\n",
            "Runoff amount is: 1558.44 gallons\n"
          ],
          "name": "stdout"
        }
      ]
    }
  ]
}